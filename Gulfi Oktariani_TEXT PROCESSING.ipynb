{
 "cells": [
  {
   "cell_type": "markdown",
   "metadata": {},
   "source": [
    "<h3> Nama : Gulfi Oktariani </h3>\n",
    "<h3> Nim : 09011381823118 </h3>"
   ]
  },
  {
   "cell_type": "markdown",
   "metadata": {},
   "source": [
    "## TEXT PROCESSING"
   ]
  },
  {
   "cell_type": "markdown",
   "metadata": {},
   "source": [
    "**Text Processing**\n",
    "\n",
    "Text Processing merupakan bagian dari Machine Learning. \n",
    "\n",
    "Author Name Disambiguation merupakan salah satu bagian dari text processing. Author Name Disambiguation ialah proses membedakan penulis yang memiliki kesamaan nama (ambigu) sehingga dapat mengurangi kesalahan dalam mengidentifikasi data penulis."
   ]
  },
  {
   "cell_type": "markdown",
   "metadata": {},
   "source": [
    "**Library yang digunakan**"
   ]
  },
  {
   "cell_type": "code",
   "execution_count": 1,
   "metadata": {},
   "outputs": [
    {
     "name": "stderr",
     "output_type": "stream",
     "text": [
      "[nltk_data] Downloading package stopwords to C:\\Users\\Gulfi\n",
      "[nltk_data]     Oktariani\\AppData\\Roaming\\nltk_data...\n",
      "[nltk_data]   Unzipping corpora\\stopwords.zip.\n",
      "[nltk_data] Downloading package punkt to C:\\Users\\Gulfi\n",
      "[nltk_data]     Oktariani\\AppData\\Roaming\\nltk_data...\n",
      "[nltk_data]   Unzipping tokenizers\\punkt.zip.\n",
      "[nltk_data] Downloading package wordnet to C:\\Users\\Gulfi\n",
      "[nltk_data]     Oktariani\\AppData\\Roaming\\nltk_data...\n",
      "[nltk_data]   Unzipping corpora\\wordnet.zip.\n"
     ]
    },
    {
     "data": {
      "text/plain": [
       "True"
      ]
     },
     "execution_count": 1,
     "metadata": {},
     "output_type": "execute_result"
    }
   ],
   "source": [
    "import numpy as np\n",
    "import pandas as pd\n",
    "from nltk.tokenize import sent_tokenize, word_tokenize\n",
    "from nltk.stem import WordNetLemmatizer, PorterStemmer, LancasterStemmer, SnowballStemmer\n",
    "from sklearn.feature_extraction.text import TfidfVectorizer\n",
    "import re\n",
    "import string\n",
    "import nltk\n",
    "from nltk.corpus import stopwords, wordnet\n",
    "nltk.download('stopwords')\n",
    "nltk.download('punkt')\n",
    "nltk.download('wordnet')"
   ]
  },
  {
   "cell_type": "markdown",
   "metadata": {},
   "source": [
    "**Contoh Text Processing**\n",
    "\n",
    "Dataset https://www.kaggle.com/nulldata/medium-post-titles"
   ]
  },
  {
   "cell_type": "markdown",
   "metadata": {},
   "source": [
    "**Input Dataset**"
   ]
  },
  {
   "cell_type": "code",
   "execution_count": 6,
   "metadata": {},
   "outputs": [
    {
     "data": {
      "text/html": [
       "<div>\n",
       "<style scoped>\n",
       "    .dataframe tbody tr th:only-of-type {\n",
       "        vertical-align: middle;\n",
       "    }\n",
       "\n",
       "    .dataframe tbody tr th {\n",
       "        vertical-align: top;\n",
       "    }\n",
       "\n",
       "    .dataframe thead th {\n",
       "        text-align: right;\n",
       "    }\n",
       "</style>\n",
       "<table border=\"1\" class=\"dataframe\">\n",
       "  <thead>\n",
       "    <tr style=\"text-align: right;\">\n",
       "      <th></th>\n",
       "      <th>category</th>\n",
       "      <th>title</th>\n",
       "      <th>subtitle</th>\n",
       "      <th>subtitle_truncated_flag</th>\n",
       "    </tr>\n",
       "  </thead>\n",
       "  <tbody>\n",
       "    <tr>\n",
       "      <td>0</td>\n",
       "      <td>work</td>\n",
       "      <td>\"21 Conversations\" - A fun (and easy) game for...</td>\n",
       "      <td>A (new?) Icebreaker game to get your team to s...</td>\n",
       "      <td>False</td>\n",
       "    </tr>\n",
       "    <tr>\n",
       "      <td>1</td>\n",
       "      <td>spirituality</td>\n",
       "      <td>\"Biblical Porn\" at Mars Hill</td>\n",
       "      <td>Author and UW lecturer Jessica Johnson talks a...</td>\n",
       "      <td>False</td>\n",
       "    </tr>\n",
       "    <tr>\n",
       "      <td>2</td>\n",
       "      <td>lgbtqia</td>\n",
       "      <td>\"CISGENDER?! Is That A Disease?!\"</td>\n",
       "      <td>Or, a primer in gender vocabulary for the curi...</td>\n",
       "      <td>False</td>\n",
       "    </tr>\n",
       "    <tr>\n",
       "      <td>3</td>\n",
       "      <td>equality</td>\n",
       "      <td>\"Call me Nat Love\" :Black Cowboys and the Fron...</td>\n",
       "      <td>NaN</td>\n",
       "      <td>False</td>\n",
       "    </tr>\n",
       "    <tr>\n",
       "      <td>4</td>\n",
       "      <td>artificial-intelligence</td>\n",
       "      <td>\"Can I Train my Model on Your Computer?\"</td>\n",
       "      <td>How we waste computational resources and how t...</td>\n",
       "      <td>False</td>\n",
       "    </tr>\n",
       "  </tbody>\n",
       "</table>\n",
       "</div>"
      ],
      "text/plain": [
       "                  category                                              title  \\\n",
       "0                     work  \"21 Conversations\" - A fun (and easy) game for...   \n",
       "1             spirituality                       \"Biblical Porn\" at Mars Hill   \n",
       "2                  lgbtqia                  \"CISGENDER?! Is That A Disease?!\"   \n",
       "3                 equality  \"Call me Nat Love\" :Black Cowboys and the Fron...   \n",
       "4  artificial-intelligence           \"Can I Train my Model on Your Computer?\"   \n",
       "\n",
       "                                            subtitle  subtitle_truncated_flag  \n",
       "0  A (new?) Icebreaker game to get your team to s...                    False  \n",
       "1  Author and UW lecturer Jessica Johnson talks a...                    False  \n",
       "2  Or, a primer in gender vocabulary for the curi...                    False  \n",
       "3                                                NaN                    False  \n",
       "4  How we waste computational resources and how t...                    False  "
      ]
     },
     "execution_count": 6,
     "metadata": {},
     "output_type": "execute_result"
    }
   ],
   "source": [
    "sp = pd.read_csv('medium_post_titles.csv')\n",
    "# To display the top 5 rows\n",
    "sp.head()"
   ]
  },
  {
   "cell_type": "markdown",
   "metadata": {},
   "source": [
    "**Melihat Isi Dataset**"
   ]
  },
  {
   "cell_type": "code",
   "execution_count": 7,
   "metadata": {},
   "outputs": [
    {
     "data": {
      "text/html": [
       "<div>\n",
       "<style scoped>\n",
       "    .dataframe tbody tr th:only-of-type {\n",
       "        vertical-align: middle;\n",
       "    }\n",
       "\n",
       "    .dataframe tbody tr th {\n",
       "        vertical-align: top;\n",
       "    }\n",
       "\n",
       "    .dataframe thead th {\n",
       "        text-align: right;\n",
       "    }\n",
       "</style>\n",
       "<table border=\"1\" class=\"dataframe\">\n",
       "  <thead>\n",
       "    <tr style=\"text-align: right;\">\n",
       "      <th></th>\n",
       "      <th>category</th>\n",
       "      <th>title</th>\n",
       "      <th>subtitle</th>\n",
       "      <th>subtitle_truncated_flag</th>\n",
       "    </tr>\n",
       "  </thead>\n",
       "  <tbody>\n",
       "    <tr>\n",
       "      <td>0</td>\n",
       "      <td>work</td>\n",
       "      <td>\"21 Conversations\" - A fun (and easy) game for...</td>\n",
       "      <td>A (new?) Icebreaker game to get your team to s...</td>\n",
       "      <td>False</td>\n",
       "    </tr>\n",
       "    <tr>\n",
       "      <td>1</td>\n",
       "      <td>spirituality</td>\n",
       "      <td>\"Biblical Porn\" at Mars Hill</td>\n",
       "      <td>Author and UW lecturer Jessica Johnson talks a...</td>\n",
       "      <td>False</td>\n",
       "    </tr>\n",
       "    <tr>\n",
       "      <td>2</td>\n",
       "      <td>lgbtqia</td>\n",
       "      <td>\"CISGENDER?! Is That A Disease?!\"</td>\n",
       "      <td>Or, a primer in gender vocabulary for the curi...</td>\n",
       "      <td>False</td>\n",
       "    </tr>\n",
       "    <tr>\n",
       "      <td>3</td>\n",
       "      <td>equality</td>\n",
       "      <td>\"Call me Nat Love\" :Black Cowboys and the Fron...</td>\n",
       "      <td>NaN</td>\n",
       "      <td>False</td>\n",
       "    </tr>\n",
       "    <tr>\n",
       "      <td>4</td>\n",
       "      <td>artificial-intelligence</td>\n",
       "      <td>\"Can I Train my Model on Your Computer?\"</td>\n",
       "      <td>How we waste computational resources and how t...</td>\n",
       "      <td>False</td>\n",
       "    </tr>\n",
       "    <tr>\n",
       "      <td>...</td>\n",
       "      <td>...</td>\n",
       "      <td>...</td>\n",
       "      <td>...</td>\n",
       "      <td>...</td>\n",
       "    </tr>\n",
       "    <tr>\n",
       "      <td>126413</td>\n",
       "      <td>javascript</td>\n",
       "      <td>🚀 Introducing Akita: A New State Management Pa...</td>\n",
       "      <td>Every developer knows state management is diff...</td>\n",
       "      <td>True</td>\n",
       "    </tr>\n",
       "    <tr>\n",
       "      <td>126414</td>\n",
       "      <td>cryptocurrency</td>\n",
       "      <td>🚀Sudden Bitcoin Price Breakout Sets New Bull T...</td>\n",
       "      <td>Short-term trend: Bullish (but overbought)</td>\n",
       "      <td>False</td>\n",
       "    </tr>\n",
       "    <tr>\n",
       "      <td>126415</td>\n",
       "      <td>artificial-intelligence</td>\n",
       "      <td>🤖 Hack4th0n &amp; RASA chatbot</td>\n",
       "      <td>Past week I took part in an internal Hackathon...</td>\n",
       "      <td>True</td>\n",
       "    </tr>\n",
       "    <tr>\n",
       "      <td>126416</td>\n",
       "      <td>artificial-intelligence</td>\n",
       "      <td>🤖AI Diary #4</td>\n",
       "      <td>Topics in this issue include deep learning app...</td>\n",
       "      <td>True</td>\n",
       "    </tr>\n",
       "    <tr>\n",
       "      <td>126417</td>\n",
       "      <td>history</td>\n",
       "      <td>🦉 10x curiosity — Issue #68 — The checklist re...</td>\n",
       "      <td>NaN</td>\n",
       "      <td>False</td>\n",
       "    </tr>\n",
       "  </tbody>\n",
       "</table>\n",
       "<p>126418 rows × 4 columns</p>\n",
       "</div>"
      ],
      "text/plain": [
       "                       category  \\\n",
       "0                          work   \n",
       "1                  spirituality   \n",
       "2                       lgbtqia   \n",
       "3                      equality   \n",
       "4       artificial-intelligence   \n",
       "...                         ...   \n",
       "126413               javascript   \n",
       "126414           cryptocurrency   \n",
       "126415  artificial-intelligence   \n",
       "126416  artificial-intelligence   \n",
       "126417                  history   \n",
       "\n",
       "                                                    title  \\\n",
       "0       \"21 Conversations\" - A fun (and easy) game for...   \n",
       "1                            \"Biblical Porn\" at Mars Hill   \n",
       "2                       \"CISGENDER?! Is That A Disease?!\"   \n",
       "3       \"Call me Nat Love\" :Black Cowboys and the Fron...   \n",
       "4                \"Can I Train my Model on Your Computer?\"   \n",
       "...                                                   ...   \n",
       "126413  🚀 Introducing Akita: A New State Management Pa...   \n",
       "126414  🚀Sudden Bitcoin Price Breakout Sets New Bull T...   \n",
       "126415                         🤖 Hack4th0n & RASA chatbot   \n",
       "126416                                       🤖AI Diary #4   \n",
       "126417  🦉 10x curiosity — Issue #68 — The checklist re...   \n",
       "\n",
       "                                                 subtitle  \\\n",
       "0       A (new?) Icebreaker game to get your team to s...   \n",
       "1       Author and UW lecturer Jessica Johnson talks a...   \n",
       "2       Or, a primer in gender vocabulary for the curi...   \n",
       "3                                                     NaN   \n",
       "4       How we waste computational resources and how t...   \n",
       "...                                                   ...   \n",
       "126413  Every developer knows state management is diff...   \n",
       "126414         Short-term trend: Bullish (but overbought)   \n",
       "126415  Past week I took part in an internal Hackathon...   \n",
       "126416  Topics in this issue include deep learning app...   \n",
       "126417                                                NaN   \n",
       "\n",
       "        subtitle_truncated_flag  \n",
       "0                         False  \n",
       "1                         False  \n",
       "2                         False  \n",
       "3                         False  \n",
       "4                         False  \n",
       "...                         ...  \n",
       "126413                     True  \n",
       "126414                    False  \n",
       "126415                     True  \n",
       "126416                     True  \n",
       "126417                    False  \n",
       "\n",
       "[126418 rows x 4 columns]"
      ]
     },
     "execution_count": 7,
     "metadata": {},
     "output_type": "execute_result"
    }
   ],
   "source": [
    "sp"
   ]
  },
  {
   "cell_type": "code",
   "execution_count": 8,
   "metadata": {},
   "outputs": [
    {
     "name": "stdout",
     "output_type": "stream",
     "text": [
      "<class 'pandas.core.frame.DataFrame'>\n",
      "RangeIndex: 126418 entries, 0 to 126417\n",
      "Data columns (total 4 columns):\n",
      "category                   126418 non-null object\n",
      "title                      126418 non-null object\n",
      "subtitle                   124931 non-null object\n",
      "subtitle_truncated_flag    126418 non-null bool\n",
      "dtypes: bool(1), object(3)\n",
      "memory usage: 3.0+ MB\n"
     ]
    }
   ],
   "source": [
    "sp.info()"
   ]
  },
  {
   "cell_type": "markdown",
   "metadata": {},
   "source": [
    "**Melakukan Teks Pre-Processing**\n",
    "\n",
    "Text Preprocessing adalah salah satu bagian dari Natural Language Processing (NLP) dan merupakan tahapan paling awal sebelum masuk ke dalam proses inti pengolahan data. Text Preprocessing berfungsi dalam mempersiapkan data yang digunakan agar lebih terstruktur dan efektif. NLP merupakan teknologi Artificial Intelligence (AI) yang digunakan untuk mengubah data inti dari suatu dokumen berbentuk teks (text form) menjadi suatu data kuantitatif berbentuk angka (numerical form) secara cepat. Sehingga, data dapat diproses lebih lanjut seperti, dilakukan klasifikasi,clustering, dan sebagainya.\n"
   ]
  },
  {
   "cell_type": "code",
   "execution_count": 20,
   "metadata": {},
   "outputs": [
    {
     "name": "stdout",
     "output_type": "stream",
     "text": [
      "0         \"21 Conversations\" - A fun (and easy) game for...\n",
      "1                              \"Biblical Porn\" at Mars Hill\n",
      "2                         \"CISGENDER?! Is That A Disease?!\"\n",
      "3         \"Call me Nat Love\" :Black Cowboys and the Fron...\n",
      "4                  \"Can I Train my Model on Your Computer?\"\n",
      "                                ...                        \n",
      "126413    🚀 Introducing Akita: A New State Management Pa...\n",
      "126414    🚀Sudden Bitcoin Price Breakout Sets New Bull T...\n",
      "126415                           🤖 Hack4th0n & RASA chatbot\n",
      "126416                                         🤖AI Diary #4\n",
      "126417    🦉 10x curiosity — Issue #68 — The checklist re...\n",
      "Name: title, Length: 126418, dtype: object\n"
     ]
    }
   ],
   "source": [
    "#Memilih kolom mana yang akan digunakan\n",
    "#Kolom title \n",
    "title = sp['title']\n",
    "print(title)"
   ]
  },
  {
   "cell_type": "markdown",
   "metadata": {},
   "source": [
    "**Function Teks Pre Processing**"
   ]
  },
  {
   "cell_type": "code",
   "execution_count": 21,
   "metadata": {},
   "outputs": [],
   "source": [
    "def clean(text):\n",
    "    text = text.lower()  # Lowercase text\n",
    "    text = re.sub(r'\\d+', '', text.lower())  # Clear Number\n",
    "    text = text.translate(str.maketrans(\"\", \"\", string.punctuation))  # Clear  !@#$##&$*(%)\n",
    "    text = text.strip()  # Bersihkan whitespaces (karakter karakter yang aneh/tak terlihat)\n",
    "    return text"
   ]
  },
  {
   "cell_type": "markdown",
   "metadata": {},
   "source": [
    "**Penerapan/Apply Fungsi pada salah satu feature**"
   ]
  },
  {
   "cell_type": "code",
   "execution_count": 22,
   "metadata": {},
   "outputs": [
    {
     "data": {
      "text/plain": [
       "0         conversations  a fun and easy game for teams t...\n",
       "1                                biblical porn at mars hill\n",
       "2                               cisgender is that a disease\n",
       "3         call me nat love black cowboys and the frontie...\n",
       "4                     can i train my model on your computer\n",
       "                                ...                        \n",
       "126413    🚀 introducing akita a new state management pat...\n",
       "126414    🚀sudden bitcoin price breakout sets new bull t...\n",
       "126415                              🤖 hackthn  rasa chatbot\n",
       "126416                                            🤖ai diary\n",
       "126417    🦉 x curiosity — issue  — the checklist revolution\n",
       "Name: title, Length: 126418, dtype: object"
      ]
     },
     "execution_count": 22,
     "metadata": {},
     "output_type": "execute_result"
    }
   ],
   "source": [
    "title = title.apply(clean)\n",
    "title"
   ]
  },
  {
   "cell_type": "code",
   "execution_count": 23,
   "metadata": {},
   "outputs": [],
   "source": [
    "lemmatizer = WordNetLemmatizer()\n",
    "stemmer = PorterStemmer()\n",
    "stop_words = set(stopwords.words('english'))"
   ]
  },
  {
   "cell_type": "code",
   "execution_count": 24,
   "metadata": {},
   "outputs": [],
   "source": [
    "def tokenstem(text):\n",
    "    words = word_tokenize(text)\n",
    "    filtered = []\n",
    "    for w in words:\n",
    "        if w not in stop_words:\n",
    "            w = lemmatizer.lemmatize(w)\n",
    "            w = stemmer.stem(w)\n",
    "            filtered.append(w)\n",
    "    return filtered"
   ]
  },
  {
   "cell_type": "code",
   "execution_count": 25,
   "metadata": {},
   "outputs": [
    {
     "data": {
      "text/plain": [
       "0               [convers, fun, easi, game, team, get, know]\n",
       "1                                 [biblic, porn, mar, hill]\n",
       "2                                         [cisgend, diseas]\n",
       "3         [call, nat, love, black, cowboy, frontier, ame...\n",
       "4                                    [train, model, comput]\n",
       "                                ...                        \n",
       "126413    [🚀, introduc, akita, new, state, manag, patter...\n",
       "126414    [🚀sudden, bitcoin, price, breakout, set, new, ...\n",
       "126415                          [🤖, hackthn, rasa, chatbot]\n",
       "126416                                         [🤖ai, diari]\n",
       "126417       [🦉, x, curios, —, issu, —, checklist, revolut]\n",
       "Name: title, Length: 126418, dtype: object"
      ]
     },
     "execution_count": 25,
     "metadata": {},
     "output_type": "execute_result"
    }
   ],
   "source": [
    "title = title.apply(tokenstem)\n",
    "title"
   ]
  }
 ],
 "metadata": {
  "kernelspec": {
   "display_name": "Python 3",
   "language": "python",
   "name": "python3"
  },
  "language_info": {
   "codemirror_mode": {
    "name": "ipython",
    "version": 3
   },
   "file_extension": ".py",
   "mimetype": "text/x-python",
   "name": "python",
   "nbconvert_exporter": "python",
   "pygments_lexer": "ipython3",
   "version": "3.7.4"
  }
 },
 "nbformat": 4,
 "nbformat_minor": 2
}
